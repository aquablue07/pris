{
 "cells": [
  {
   "cell_type": "code",
   "execution_count": 1,
   "metadata": {},
   "outputs": [],
   "source": [
    "import os, sys, math, select\n",
    "import numpy as np\n",
    "import pandas as pd\n",
    "import librosa\n",
    "import sounddevice as sd\n",
    "import time as tm\n",
    "import scipy.io.wavfile as wavf\n",
    "import datetime\n",
    "import warnings\n",
    "import tempfile\n",
    "\n",
    "from feature_extraction import filters as fil\n",
    "from feature_extraction import lpcgen as lpg\n",
    "from feature_extraction import calcspectrum as csp\n",
    "from feature_extraction import harmonics as hmn\n",
    "from feature_extraction import fextract as fex\n",
    "from feature_extraction import parsedata as par\n",
    "from feature_extraction.getconfi import logdata\n",
    "from feature_extraction.apicall import apicalls\n",
    "from feature_extraction.specsub import reduce_noise\n",
    "\n",
    "from sklearn import svm\n",
    "from sklearn.externals import joblib\n",
    "import pickle\n"
   ]
  },
  {
   "cell_type": "code",
   "execution_count": 3,
   "metadata": {},
   "outputs": [],
   "source": [
    "warnings.filterwarnings(\"ignore\")\n",
    "\"\"\"clf = joblib.load('input/detection_iris_new.pkl')## this is the vnear robust one\"\"\"\n",
    "clf = joblib.load('input/detection_new18july.pkl')## this is taken at the beach\n",
    "#clm = joblib.load('input/detection_new18july.pkl')\n",
    "#clf1 = joblib.load('input/dronedetectionfinal_new.pkl')\n",
    "#discard this part----------------------------------------------------------\n",
    "rows = 10\n",
    "cols = 60\n",
    "winlist = []\n",
    "\n",
    "\"\"\"set this part to the number of logs you want to save before computing confidence level\"\"\"\n",
    "log = logdata(3) ##check getconfi.py for more details(in feature_extraction folder)\n",
    "\n",
    "######################################################################################################\n",
    "global itervalue #I used this when I needed to get only a certain number o iterations\n",
    "itervalue = 0\n",
    "\"\"\"set api and initiate calls\"\"\"\n",
    "api_url = 'http://mlc67-cmp-00.egr.duke.edu/api/events' ##This is dukes server which Chunge created\n",
    "apikey = None\n",
    "push_url = \"https://onesignal.com/api/v1/notifications\"\n",
    "pushkey = None\n",
    "sound_url = 'http://mlc67-cmp-00.egr.duke.edu/api/soundInfos'\n",
    "soundkey = None\n",
    "wav_url = ' http://mlc67-cmp-00.egr.duke.edu/api/sound-clips/container/upload'\n",
    "wavkey = None\n",
    "LOCATION = \"Drone Detector A\"\n",
    "send = apicalls(api_url,apikey, push_url,pushkey, sound_url, soundkey, wav_url,wavkey, LOCATION)##This initiates the push notification and mongodb database\n",
    "log.insertdf(3,str(datetime.datetime.now())[:-7]) #inserted dummy value to eliminate inconsistency\n",
    "i = 0\n",
    "bandpass = [600,10000]#filter unwanted frequencies\n",
    "prev_time= tm.time()#initiate time\n",
    "reccount = 0\n",
    "recdata = np.array([],dtype=\"float32\")\n",
    "basename = \"drone\""
   ]
  },
  {
   "cell_type": "code",
   "execution_count": 4,
   "metadata": {},
   "outputs": [],
   "source": [
    "bol=True\n",
    "def record(time = 1, fs = 44100):\n",
    "    file = 'temp_out'\n",
    "    duration = time\n",
    "    recording = sd.rec(int(duration*fs),samplerate=fs, channels=1, blocking  = False)\n",
    "    for i in range(time):\n",
    "        i += 1\n",
    "        tm.sleep(1)\n",
    "    recording = recording[:,0]\n",
    "    np.save(file,recording)\n",
    "    np.seterr(divide='ignore', invalid='ignore')\n",
    "    scaled = np.int16(recording/np.max(np.abs(recording)) * 32767) #I am using normalised data so that the processing doesnt throw errors\n",
    "    wavf.write(file+'.wav', fs, scaled)\n",
    "    \"\"\"uncomment the following if you want to save data\"\"\"#use the commented portion only when you need to collect data at the same time you do processing\n",
    "    ##################################################################################################\n",
    "    #wavf.write(file+'_'+str(itervalue)+'.wav', fs, scaled)\n",
    "    #data, fs = librosa.load(file+'_'+str(itervalue)+'.wav')\n",
    "    ######################################################################################################\n",
    "    data, fs = librosa.load(file+'.wav')\n",
    "    #os.remove(file+'.npy')\n",
    "    #os.remove(file+'.wav')\n",
    "    return data, fs\n",
    "\n",
    "def dist_prediction_label(value):\n",
    "    if value == 0:\n",
    "        label = \"far\"\n",
    "    elif value == 1:\n",
    "        label = \"midrange\"\n",
    "    elif value == 2:\n",
    "        label = \"near\"\n",
    "    elif value == 3:\n",
    "        label = \"vfar or nodrone\"\n",
    "    elif value == 4:\n",
    "        label = \"vnear\"\n",
    "    return label"
   ]
  },
  {
   "cell_type": "code",
   "execution_count": 7,
   "metadata": {},
   "outputs": [
    {
     "ename": "KeyboardInterrupt",
     "evalue": "",
     "output_type": "error",
     "traceback": [
      "\u001b[1;31m---------------------------------------------------------------------------\u001b[0m",
      "\u001b[1;31mKeyboardInterrupt\u001b[0m                         Traceback (most recent call last)",
      "\u001b[1;32m<ipython-input-7-b22eaec05d69>\u001b[0m in \u001b[0;36m<module>\u001b[1;34m\u001b[0m\n\u001b[0;32m      1\u001b[0m \u001b[1;32mwhile\u001b[0m \u001b[0mbol\u001b[0m\u001b[1;33m:\u001b[0m\u001b[1;33m\u001b[0m\u001b[1;33m\u001b[0m\u001b[0m\n\u001b[1;32m----> 2\u001b[1;33m     \u001b[0mdata\u001b[0m\u001b[1;33m,\u001b[0m \u001b[0mfs\u001b[0m \u001b[1;33m=\u001b[0m \u001b[0mrecord\u001b[0m\u001b[1;33m(\u001b[0m\u001b[1;33m)\u001b[0m\u001b[1;33m\u001b[0m\u001b[1;33m\u001b[0m\u001b[0m\n\u001b[0m\u001b[0;32m      3\u001b[0m     \u001b[1;32mif\u001b[0m \u001b[0mreccount\u001b[0m \u001b[1;33m>\u001b[0m \u001b[1;36m0\u001b[0m \u001b[1;32mand\u001b[0m \u001b[0mreccount\u001b[0m \u001b[1;33m<\u001b[0m \u001b[1;36m12\u001b[0m\u001b[1;33m:\u001b[0m\u001b[1;33m\u001b[0m\u001b[1;33m\u001b[0m\u001b[0m\n\u001b[0;32m      4\u001b[0m         \u001b[0mrecdata\u001b[0m \u001b[1;33m=\u001b[0m \u001b[0mnp\u001b[0m\u001b[1;33m.\u001b[0m\u001b[0mconcatenate\u001b[0m\u001b[1;33m(\u001b[0m\u001b[1;33m[\u001b[0m\u001b[0mrecdata\u001b[0m\u001b[1;33m,\u001b[0m \u001b[0mdata\u001b[0m\u001b[1;33m]\u001b[0m\u001b[1;33m)\u001b[0m\u001b[1;33m\u001b[0m\u001b[1;33m\u001b[0m\u001b[0m\n\u001b[0;32m      5\u001b[0m         \u001b[0mnp\u001b[0m\u001b[1;33m.\u001b[0m\u001b[0mseterr\u001b[0m\u001b[1;33m(\u001b[0m\u001b[0mdivide\u001b[0m\u001b[1;33m=\u001b[0m\u001b[1;34m'ignore'\u001b[0m\u001b[1;33m,\u001b[0m \u001b[0minvalid\u001b[0m\u001b[1;33m=\u001b[0m\u001b[1;34m'ignore'\u001b[0m\u001b[1;33m)\u001b[0m\u001b[1;33m\u001b[0m\u001b[1;33m\u001b[0m\u001b[0m\n",
      "\u001b[1;32m<ipython-input-4-23e04e95db6c>\u001b[0m in \u001b[0;36mrecord\u001b[1;34m(time, fs)\u001b[0m\n\u001b[0;32m      6\u001b[0m     \u001b[1;32mfor\u001b[0m \u001b[0mi\u001b[0m \u001b[1;32min\u001b[0m \u001b[0mrange\u001b[0m\u001b[1;33m(\u001b[0m\u001b[0mtime\u001b[0m\u001b[1;33m)\u001b[0m\u001b[1;33m:\u001b[0m\u001b[1;33m\u001b[0m\u001b[1;33m\u001b[0m\u001b[0m\n\u001b[0;32m      7\u001b[0m         \u001b[0mi\u001b[0m \u001b[1;33m+=\u001b[0m \u001b[1;36m1\u001b[0m\u001b[1;33m\u001b[0m\u001b[1;33m\u001b[0m\u001b[0m\n\u001b[1;32m----> 8\u001b[1;33m         \u001b[0mtm\u001b[0m\u001b[1;33m.\u001b[0m\u001b[0msleep\u001b[0m\u001b[1;33m(\u001b[0m\u001b[1;36m1\u001b[0m\u001b[1;33m)\u001b[0m\u001b[1;33m\u001b[0m\u001b[1;33m\u001b[0m\u001b[0m\n\u001b[0m\u001b[0;32m      9\u001b[0m     \u001b[0mrecording\u001b[0m \u001b[1;33m=\u001b[0m \u001b[0mrecording\u001b[0m\u001b[1;33m[\u001b[0m\u001b[1;33m:\u001b[0m\u001b[1;33m,\u001b[0m\u001b[1;36m0\u001b[0m\u001b[1;33m]\u001b[0m\u001b[1;33m\u001b[0m\u001b[1;33m\u001b[0m\u001b[0m\n\u001b[0;32m     10\u001b[0m     \u001b[0mnp\u001b[0m\u001b[1;33m.\u001b[0m\u001b[0msave\u001b[0m\u001b[1;33m(\u001b[0m\u001b[0mfile\u001b[0m\u001b[1;33m,\u001b[0m\u001b[0mrecording\u001b[0m\u001b[1;33m)\u001b[0m\u001b[1;33m\u001b[0m\u001b[1;33m\u001b[0m\u001b[0m\n",
      "\u001b[1;31mKeyboardInterrupt\u001b[0m: "
     ]
    }
   ],
   "source": [
    "            while bol:\n",
    "                data, fs = record()\n",
    "                if reccount > 0 and reccount < 12:\n",
    "                    recdata = np.concatenate([recdata, data])\n",
    "                    np.seterr(divide='ignore', invalid='ignore')\n",
    "                    recscaled = np.int16(recdata/np.max(np.abs(recdata)) * 32767)\n",
    "                    reccount += 1\n",
    "                    if reccount == 11:\n",
    "                        suffix = datetime.datetime.now().strftime(\"%y%m%d_%H%M%S\")\n",
    "                        sfilename = \"_\".join([basename, suffix])+\".wav\" # e.g. 'mylogfile_120508_171442'\n",
    "                        #np.save(tf.name,recscaled)\n",
    "                        wavf.write(sfilename, fs, recscaled)\n",
    "                        #send.infosendtoken(output, sfilename)\n",
    "                        #send.wavsendtoken(sfilename)\n",
    "                        print(\"file succesfully uploaded to server!\")\n",
    "                        os.remove(sfilename)\n",
    "                        recdata = np.array([],dtype=\"float32\")\n",
    "                        reccount = 0\n",
    "                        bol=False"
   ]
  },
  {
   "cell_type": "code",
   "execution_count": 4,
   "metadata": {},
   "outputs": [],
   "source": [
    "fd, path = tempfile.mkstemp()"
   ]
  },
  {
   "cell_type": "code",
   "execution_count": 5,
   "metadata": {},
   "outputs": [
    {
     "data": {
      "text/plain": [
       "5"
      ]
     },
     "execution_count": 5,
     "metadata": {},
     "output_type": "execute_result"
    }
   ],
   "source": [
    "fd"
   ]
  },
  {
   "cell_type": "code",
   "execution_count": 7,
   "metadata": {},
   "outputs": [
    {
     "data": {
      "text/plain": [
       "'C:\\\\Users\\\\sayan\\\\AppData\\\\Local\\\\Temp\\\\tmpgdu9d5qm'"
      ]
     },
     "execution_count": 7,
     "metadata": {},
     "output_type": "execute_result"
    }
   ],
   "source": [
    "path"
   ]
  },
  {
   "cell_type": "code",
   "execution_count": 22,
   "metadata": {},
   "outputs": [],
   "source": [
    "import datetime\n",
    "basename = \"mylogfile\"\n",
    "suffix = datetime.datetime.now().strftime(\"%y%m%d_%H%M%S\")\n",
    "filename = \"_\".join([basename, suffix])+\".wav\" # e.g. 'mylogfile_120508_171442'"
   ]
  },
  {
   "cell_type": "code",
   "execution_count": 23,
   "metadata": {},
   "outputs": [
    {
     "data": {
      "text/plain": [
       "'mylogfile_190613_205656.wav'"
      ]
     },
     "execution_count": 23,
     "metadata": {},
     "output_type": "execute_result"
    }
   ],
   "source": [
    "filename"
   ]
  },
  {
   "cell_type": "code",
   "execution_count": null,
   "metadata": {},
   "outputs": [],
   "source": []
  }
 ],
 "metadata": {
  "kernelspec": {
   "display_name": "Python 3",
   "language": "python",
   "name": "python3"
  },
  "language_info": {
   "codemirror_mode": {
    "name": "ipython",
    "version": 3
   },
   "file_extension": ".py",
   "mimetype": "text/x-python",
   "name": "python",
   "nbconvert_exporter": "python",
   "pygments_lexer": "ipython3",
   "version": "3.6.8"
  }
 },
 "nbformat": 4,
 "nbformat_minor": 2
}
